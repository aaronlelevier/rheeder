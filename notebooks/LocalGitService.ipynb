{
 "cells": [
  {
   "cell_type": "markdown",
   "id": "fcb15588-d503-4f58-866e-60d316abe7a3",
   "metadata": {},
   "source": [
    "# imports"
   ]
  },
  {
   "cell_type": "code",
   "execution_count": 10,
   "id": "6457727b-4ecb-491c-a1f7-be50ee6ca91b",
   "metadata": {},
   "outputs": [],
   "source": [
    "import os\n",
    "import pathlib\n",
    "from git import Repo"
   ]
  },
  {
   "cell_type": "markdown",
   "id": "1de646df-02a7-45ae-b526-ddc7859093aa",
   "metadata": {},
   "source": [
    "# start"
   ]
  },
  {
   "cell_type": "code",
   "execution_count": 150,
   "id": "e69a19fe-be7f-4021-8d95-1b39989bd91c",
   "metadata": {},
   "outputs": [
    {
     "data": {
      "text/plain": [
       "<__main__.FileManager at 0x107ea9d30>"
      ]
     },
     "execution_count": 150,
     "metadata": {},
     "output_type": "execute_result"
    }
   ],
   "source": [
    "class FileManager:\n",
    "    def __init__(self, dirname):\n",
    "        self.dirname = os.path.abspath(dirname)\n",
    "\n",
    "    def read(self, path):\n",
    "        with open(self.fp(path)) as f:\n",
    "            s = f.read()\n",
    "        return s\n",
    "\n",
    "    def write(self, path, contents):\n",
    "        with open(self.fp(path), 'w', encoding='utf-8') as f:\n",
    "            f.write(contents)\n",
    "\n",
    "    def fp(self, path):\n",
    "        return os.path.join(self.dirname, path)\n",
    "\n",
    "m = FileManager('../markdown-notes/')\n",
    "m"
   ]
  },
  {
   "cell_type": "code",
   "execution_count": 4,
   "id": "840b3a6e-17e9-48db-b542-e21a26c3319c",
   "metadata": {},
   "outputs": [],
   "source": [
    "repo = Repo('../markdown-notes/')"
   ]
  },
  {
   "cell_type": "code",
   "execution_count": 38,
   "id": "7e753a77-ae83-4879-a760-f4e136b53992",
   "metadata": {},
   "outputs": [
    {
     "data": {
      "text/plain": [
       "'main'"
      ]
     },
     "execution_count": 38,
     "metadata": {},
     "output_type": "execute_result"
    }
   ],
   "source": [
    "repo.active_branch.name"
   ]
  },
  {
   "cell_type": "code",
   "execution_count": 191,
   "id": "77b23397-ec2f-4e8b-9b07-1e2b54d675e2",
   "metadata": {
    "scrolled": true
   },
   "outputs": [
    {
     "data": {
      "text/plain": [
       "<__main__.GitService at 0x1104ff920>"
      ]
     },
     "execution_count": 191,
     "metadata": {},
     "output_type": "execute_result"
    }
   ],
   "source": [
    "class GitService:\n",
    "    def __init__(self, repo_dir):\n",
    "        self.repo = Repo(repo_dir)\n",
    "        self.file_manager = FileManager(repo_dir)\n",
    "\n",
    "    @property\n",
    "    def branch(self):\n",
    "        return self.repo.active_branch.name\n",
    "\n",
    "    def change_branch(self, branch):\n",
    "        try:\n",
    "            self.repo.git.checkout(branch)\n",
    "        except git.GitCommandError:\n",
    "            # branch does not exist\n",
    "            self.repo.git.checkout('-b', branch)\n",
    "        return branch\n",
    "\n",
    "    def add(self, path, contents):\n",
    "        changed = False\n",
    "        \n",
    "        self.file_manager.write(path, contents)\n",
    "        if self.repo.git.diff():\n",
    "            self.repo.index.add(path)\n",
    "            self.repo.index.commit(path)\n",
    "            changed = True\n",
    "        \n",
    "        return changed, self.file_manager.fp(path)\n",
    "\n",
    "    def save(self):\n",
    "        # git squash and git push\n",
    "        origin = self.repo.remote(name='origin')\n",
    "        origin.push()\n",
    "\n",
    "    def compare(self, path, branch) -> bool:\n",
    "        s1 = self.file_manager.read(path)\n",
    "        current_branch = self.branch\n",
    "        self.change_branch(branch)\n",
    "        s2 = self.file_manager.read(path)\n",
    "        self.change_branch(current_branch)\n",
    "        return s1 == s2\n",
    "\n",
    "    def diff(self) -> bool:\n",
    "        return bool(self.commits())\n",
    "\n",
    "    def commits(self) -> str:\n",
    "        return self.repo.git.log(f'origin/{self.branch}..{self.branch}')\n",
    "\n",
    "\n",
    "service = GitService('../markdown-notes/')\n",
    "service"
   ]
  },
  {
   "cell_type": "code",
   "execution_count": 192,
   "id": "fe0a27f6-6bd0-42b8-a5c0-ca46e2ee8c6d",
   "metadata": {},
   "outputs": [
    {
     "data": {
      "text/plain": [
       "'commit 2fb2abcbdcd3b776072d58e400ead8eb18fb9fc2\\nAuthor: aaronlelevier <aaron.lelevier@gmail.com>\\nDate:   Mon May 27 18:06:08 2024 -0700\\n\\n    test.txt\\n\\ncommit b4cdf3c21708191a835770084561674857e84399\\nAuthor: aaronlelevier <aaron.lelevier@gmail.com>\\nDate:   Mon May 27 17:58:25 2024 -0700\\n\\n    test.txt'"
      ]
     },
     "execution_count": 192,
     "metadata": {},
     "output_type": "execute_result"
    }
   ],
   "source": [
    "service.commits()"
   ]
  },
  {
   "cell_type": "code",
   "execution_count": 194,
   "id": "a06ccec6-8f20-4e89-87d6-5404c92a657b",
   "metadata": {},
   "outputs": [
    {
     "data": {
      "text/plain": [
       "True"
      ]
     },
     "execution_count": 194,
     "metadata": {},
     "output_type": "execute_result"
    }
   ],
   "source": [
    "service.diff()"
   ]
  },
  {
   "cell_type": "code",
   "execution_count": 195,
   "id": "f57271bc-8761-42b8-b9e7-7b0f6bf889de",
   "metadata": {},
   "outputs": [],
   "source": [
    "service.save()"
   ]
  },
  {
   "cell_type": "code",
   "execution_count": 196,
   "id": "e22ad2dc-63d3-4401-b39f-9ce4c43b86d1",
   "metadata": {},
   "outputs": [
    {
     "data": {
      "text/plain": [
       "False"
      ]
     },
     "execution_count": 196,
     "metadata": {},
     "output_type": "execute_result"
    }
   ],
   "source": [
    "service.diff()"
   ]
  },
  {
   "cell_type": "code",
   "execution_count": null,
   "id": "9b694352-9682-463c-acf5-d8576987c128",
   "metadata": {},
   "outputs": [],
   "source": []
  },
  {
   "cell_type": "code",
   "execution_count": 157,
   "id": "7dbf9aff-df64-4140-9e24-5c75b0001bf5",
   "metadata": {},
   "outputs": [
    {
     "data": {
      "text/plain": [
       "(False, '/Users/aaronlelevier/Documents/github/markdown-notes/test.txt')"
      ]
     },
     "execution_count": 157,
     "metadata": {},
     "output_type": "execute_result"
    }
   ],
   "source": [
    "service.add('test.txt', 'yay')"
   ]
  },
  {
   "cell_type": "code",
   "execution_count": 159,
   "id": "8463b481-c42c-4168-b5fc-14b170d65638",
   "metadata": {},
   "outputs": [
    {
     "data": {
      "text/plain": [
       "False"
      ]
     },
     "execution_count": 159,
     "metadata": {},
     "output_type": "execute_result"
    }
   ],
   "source": [
    "service.diff()"
   ]
  },
  {
   "cell_type": "code",
   "execution_count": 162,
   "id": "1487d904-f45b-45fa-a9eb-9ad2913d1a3a",
   "metadata": {},
   "outputs": [],
   "source": [
    "remote = service.repo.remote()"
   ]
  },
  {
   "cell_type": "code",
   "execution_count": 166,
   "id": "7b9ed201-91b3-46c0-ac8b-4850a740ac31",
   "metadata": {},
   "outputs": [
    {
     "data": {
      "text/plain": [
       "<git.Head \"refs/heads/bar\">"
      ]
     },
     "execution_count": 166,
     "metadata": {},
     "output_type": "execute_result"
    }
   ],
   "source": [
    "self.repo.head.ref"
   ]
  },
  {
   "cell_type": "code",
   "execution_count": 155,
   "id": "1d29b813-3069-4d32-b0b9-36f8179ef52e",
   "metadata": {},
   "outputs": [],
   "source": [
    "service.save()"
   ]
  },
  {
   "cell_type": "code",
   "execution_count": 172,
   "id": "4f304e7e-8761-44ef-a03c-4acc34aed2dc",
   "metadata": {},
   "outputs": [
    {
     "data": {
      "text/plain": [
       "<git.Head \"refs/heads/bar\">"
      ]
     },
     "execution_count": 172,
     "metadata": {},
     "output_type": "execute_result"
    }
   ],
   "source": [
    "service.repo.head.ref"
   ]
  },
  {
   "cell_type": "code",
   "execution_count": 177,
   "id": "b4534d1e-907f-4ab6-a2b4-66cfaa910cc3",
   "metadata": {},
   "outputs": [
    {
     "data": {
      "text/plain": [
       "''"
      ]
     },
     "execution_count": 177,
     "metadata": {},
     "output_type": "execute_result"
    }
   ],
   "source": [
    "repo.git.checkout('remotes/origin/bar')"
   ]
  },
  {
   "cell_type": "code",
   "execution_count": 180,
   "id": "70b6fbef-675a-4896-933a-3362e71f864b",
   "metadata": {},
   "outputs": [],
   "source": [
    "for x in repo.index.diff(\"HEAD\"):\n",
    "    print(x)"
   ]
  },
  {
   "cell_type": "code",
   "execution_count": 181,
   "id": "ec58b578-2961-4891-830c-a733f9805b4e",
   "metadata": {},
   "outputs": [],
   "source": [
    "diff_list = repo.head.commit.diff()\n",
    "\n",
    "for diff in diff_list:\n",
    "    print(diff.change_type) # Gives the change type. eg. 'A': added, 'M': modified etc.\n"
   ]
  },
  {
   "cell_type": "code",
   "execution_count": 182,
   "id": "de054906-5e89-4cbb-8cc5-df877c6986c6",
   "metadata": {},
   "outputs": [
    {
     "data": {
      "text/plain": [
       "[]"
      ]
     },
     "execution_count": 182,
     "metadata": {},
     "output_type": "execute_result"
    }
   ],
   "source": [
    "diff_list"
   ]
  },
  {
   "cell_type": "code",
   "execution_count": 183,
   "id": "8c68b601-b85b-4589-bef4-558521697a2b",
   "metadata": {},
   "outputs": [
    {
     "data": {
      "text/plain": [
       "<git.Head \"refs/heads/bar\">"
      ]
     },
     "execution_count": 183,
     "metadata": {},
     "output_type": "execute_result"
    }
   ],
   "source": [
    "repo.head.ref"
   ]
  },
  {
   "cell_type": "code",
   "execution_count": 184,
   "id": "1b15d49c-b4ac-4bf0-a96c-41fb83016c79",
   "metadata": {},
   "outputs": [
    {
     "data": {
      "text/plain": [
       "'commit b4cdf3c21708191a835770084561674857e84399\\nAuthor: aaronlelevier <aaron.lelevier@gmail.com>\\nDate:   Mon May 27 17:58:25 2024 -0700\\n\\n    test.txt'"
      ]
     },
     "execution_count": 184,
     "metadata": {},
     "output_type": "execute_result"
    }
   ],
   "source": [
    "repo.git.log('origin/bar..bar')"
   ]
  },
  {
   "cell_type": "code",
   "execution_count": 185,
   "id": "11e134dd-cf3b-48e2-835e-b626b618b710",
   "metadata": {},
   "outputs": [
    {
     "data": {
      "text/plain": [
       "(True, '/Users/aaronlelevier/Documents/github/markdown-notes/test.txt')"
      ]
     },
     "execution_count": 185,
     "metadata": {},
     "output_type": "execute_result"
    }
   ],
   "source": [
    "service.add('test.txt', 'yes')"
   ]
  },
  {
   "cell_type": "code",
   "execution_count": null,
   "id": "729765d2-d751-42ba-9abe-cce6da8591c7",
   "metadata": {},
   "outputs": [],
   "source": []
  },
  {
   "cell_type": "code",
   "execution_count": 186,
   "id": "923bd818-8450-4b7b-b687-2b7e10dc331e",
   "metadata": {},
   "outputs": [
    {
     "data": {
      "text/plain": [
       "'commit 2fb2abcbdcd3b776072d58e400ead8eb18fb9fc2\\nAuthor: aaronlelevier <aaron.lelevier@gmail.com>\\nDate:   Mon May 27 18:06:08 2024 -0700\\n\\n    test.txt\\n\\ncommit b4cdf3c21708191a835770084561674857e84399\\nAuthor: aaronlelevier <aaron.lelevier@gmail.com>\\nDate:   Mon May 27 17:58:25 2024 -0700\\n\\n    test.txt'"
      ]
     },
     "execution_count": 186,
     "metadata": {},
     "output_type": "execute_result"
    }
   ],
   "source": [
    "commits = repo.git.log('origin/bar..bar')"
   ]
  },
  {
   "cell_type": "code",
   "execution_count": null,
   "id": "543cd3ec-a22c-4d2b-bc2b-427a40d083e9",
   "metadata": {},
   "outputs": [],
   "source": []
  },
  {
   "cell_type": "code",
   "execution_count": 117,
   "id": "12be3de2-8c45-4dda-8656-9751fdb21ca2",
   "metadata": {},
   "outputs": [],
   "source": [
    "self = service"
   ]
  },
  {
   "cell_type": "code",
   "execution_count": 122,
   "id": "2ecdce96-9dcd-42b2-9525-cfda060edf2f",
   "metadata": {},
   "outputs": [
    {
     "name": "stdout",
     "output_type": "stream",
     "text": [
      "/Users/aaronlelevier/Documents/github/reeder\n"
     ]
    }
   ],
   "source": [
    "!pwd"
   ]
  },
  {
   "cell_type": "code",
   "execution_count": 123,
   "id": "efa1fd08-39ae-43f9-ab4f-e01cacce60ed",
   "metadata": {},
   "outputs": [
    {
     "name": "stdout",
     "output_type": "stream",
     "text": [
      "\u001b[1m\u001b[34maaronlelevier.github.io\u001b[m\u001b[m \u001b[1m\u001b[34mgithub-ci\u001b[m\u001b[m               \u001b[1m\u001b[34mreeder\u001b[m\u001b[m\n",
      "\u001b[1m\u001b[34mdocker-getting-started\u001b[m\u001b[m  \u001b[1m\u001b[34mmarina-coding\u001b[m\u001b[m           \u001b[1m\u001b[34mreeder-test\u001b[m\u001b[m\n",
      "\u001b[1m\u001b[34mdotfiles\u001b[m\u001b[m                \u001b[1m\u001b[34mmarkdown-notes\u001b[m\u001b[m          \u001b[1m\u001b[34mservice_discovery\u001b[m\u001b[m\n",
      "\u001b[1m\u001b[34mgh-team-reconciler\u001b[m\u001b[m      \u001b[1m\u001b[34mnotes\u001b[m\u001b[m                   \u001b[1m\u001b[34mtlaplus\u001b[m\u001b[m\n"
     ]
    }
   ],
   "source": [
    "!ls ../"
   ]
  },
  {
   "cell_type": "code",
   "execution_count": 120,
   "id": "458fe049-236d-4c76-bc4d-62ef8b8a4429",
   "metadata": {
    "scrolled": true
   },
   "outputs": [
    {
     "ename": "FileNotFoundError",
     "evalue": "[Errno 2] No such file or directory: '../markdown-notes/oop-previwew-other.md'",
     "output_type": "error",
     "traceback": [
      "\u001b[0;31m---------------------------------------------------------------------------\u001b[0m",
      "\u001b[0;31mFileNotFoundError\u001b[0m                         Traceback (most recent call last)",
      "Cell \u001b[0;32mIn[120], line 1\u001b[0m\n\u001b[0;32m----> 1\u001b[0m \u001b[38;5;28;43mself\u001b[39;49m\u001b[38;5;241;43m.\u001b[39;49m\u001b[43mrepo\u001b[49m\u001b[38;5;241;43m.\u001b[39;49m\u001b[43mindex\u001b[49m\u001b[38;5;241;43m.\u001b[39;49m\u001b[43madd\u001b[49m\u001b[43m(\u001b[49m\u001b[38;5;124;43m'\u001b[39;49m\u001b[38;5;124;43m../markdown-notes/oop-previwew-other.md\u001b[39;49m\u001b[38;5;124;43m'\u001b[39;49m\u001b[43m)\u001b[49m\n",
      "File \u001b[0;32m~/Documents/github/reeder/venv/lib/python3.12/site-packages/git/index/base.py:885\u001b[0m, in \u001b[0;36mIndexFile.add\u001b[0;34m(self, items, force, fprogress, path_rewriter, write, write_extension_data)\u001b[0m\n\u001b[1;32m    881\u001b[0m \u001b[38;5;66;03m# This code needs a working tree, so we try not to run it unless required.\u001b[39;00m\n\u001b[1;32m    882\u001b[0m \u001b[38;5;66;03m# That way, we are OK on a bare repository as well.\u001b[39;00m\n\u001b[1;32m    883\u001b[0m \u001b[38;5;66;03m# If there are no paths, the rewriter has nothing to do either.\u001b[39;00m\n\u001b[1;32m    884\u001b[0m \u001b[38;5;28;01mif\u001b[39;00m paths:\n\u001b[0;32m--> 885\u001b[0m     entries_added\u001b[38;5;241m.\u001b[39mextend(\u001b[38;5;28;43mself\u001b[39;49m\u001b[38;5;241;43m.\u001b[39;49m\u001b[43m_entries_for_paths\u001b[49m\u001b[43m(\u001b[49m\u001b[43mpaths\u001b[49m\u001b[43m,\u001b[49m\u001b[43m \u001b[49m\u001b[43mpath_rewriter\u001b[49m\u001b[43m,\u001b[49m\u001b[43m \u001b[49m\u001b[43mfprogress\u001b[49m\u001b[43m,\u001b[49m\u001b[43m \u001b[49m\u001b[43mentries\u001b[49m\u001b[43m)\u001b[49m)\n\u001b[1;32m    887\u001b[0m \u001b[38;5;66;03m# HANDLE ENTRIES\u001b[39;00m\n\u001b[1;32m    888\u001b[0m \u001b[38;5;28;01mif\u001b[39;00m entries:\n",
      "File \u001b[0;32m~/Documents/github/reeder/venv/lib/python3.12/site-packages/git/util.py:176\u001b[0m, in \u001b[0;36munbare_repo.<locals>.wrapper\u001b[0;34m(self, *args, **kwargs)\u001b[0m\n\u001b[1;32m    174\u001b[0m     \u001b[38;5;28;01mraise\u001b[39;00m InvalidGitRepositoryError(\u001b[38;5;124m\"\u001b[39m\u001b[38;5;124mMethod \u001b[39m\u001b[38;5;124m'\u001b[39m\u001b[38;5;132;01m%s\u001b[39;00m\u001b[38;5;124m'\u001b[39m\u001b[38;5;124m cannot operate on bare repositories\u001b[39m\u001b[38;5;124m\"\u001b[39m \u001b[38;5;241m%\u001b[39m func\u001b[38;5;241m.\u001b[39m\u001b[38;5;18m__name__\u001b[39m)\n\u001b[1;32m    175\u001b[0m \u001b[38;5;66;03m# END bare method\u001b[39;00m\n\u001b[0;32m--> 176\u001b[0m \u001b[38;5;28;01mreturn\u001b[39;00m \u001b[43mfunc\u001b[49m\u001b[43m(\u001b[49m\u001b[38;5;28;43mself\u001b[39;49m\u001b[43m,\u001b[49m\u001b[43m \u001b[49m\u001b[38;5;241;43m*\u001b[39;49m\u001b[43margs\u001b[49m\u001b[43m,\u001b[49m\u001b[43m \u001b[49m\u001b[38;5;241;43m*\u001b[39;49m\u001b[38;5;241;43m*\u001b[39;49m\u001b[43mkwargs\u001b[49m\u001b[43m)\u001b[49m\n",
      "File \u001b[0;32m~/Documents/github/reeder/venv/lib/python3.12/site-packages/git/index/util.py:111\u001b[0m, in \u001b[0;36mgit_working_dir.<locals>.set_git_working_dir\u001b[0;34m(self, *args, **kwargs)\u001b[0m\n\u001b[1;32m    109\u001b[0m os\u001b[38;5;241m.\u001b[39mchdir(\u001b[38;5;28mstr\u001b[39m(\u001b[38;5;28mself\u001b[39m\u001b[38;5;241m.\u001b[39mrepo\u001b[38;5;241m.\u001b[39mworking_tree_dir))\n\u001b[1;32m    110\u001b[0m \u001b[38;5;28;01mtry\u001b[39;00m:\n\u001b[0;32m--> 111\u001b[0m     \u001b[38;5;28;01mreturn\u001b[39;00m \u001b[43mfunc\u001b[49m\u001b[43m(\u001b[49m\u001b[38;5;28;43mself\u001b[39;49m\u001b[43m,\u001b[49m\u001b[43m \u001b[49m\u001b[38;5;241;43m*\u001b[39;49m\u001b[43margs\u001b[49m\u001b[43m,\u001b[49m\u001b[43m \u001b[49m\u001b[38;5;241;43m*\u001b[39;49m\u001b[38;5;241;43m*\u001b[39;49m\u001b[43mkwargs\u001b[49m\u001b[43m)\u001b[49m\n\u001b[1;32m    112\u001b[0m \u001b[38;5;28;01mfinally\u001b[39;00m:\n\u001b[1;32m    113\u001b[0m     os\u001b[38;5;241m.\u001b[39mchdir(cur_wd)\n",
      "File \u001b[0;32m~/Documents/github/reeder/venv/lib/python3.12/site-packages/git/index/base.py:745\u001b[0m, in \u001b[0;36mIndexFile._entries_for_paths\u001b[0;34m(self, paths, path_rewriter, fprogress, entries)\u001b[0m\n\u001b[1;32m    743\u001b[0m \u001b[38;5;28;01massert\u001b[39;00m \u001b[38;5;28mlen\u001b[39m(entries_added) \u001b[38;5;241m==\u001b[39m \u001b[38;5;241m0\u001b[39m\n\u001b[1;32m    744\u001b[0m \u001b[38;5;28;01mfor\u001b[39;00m filepath \u001b[38;5;129;01min\u001b[39;00m \u001b[38;5;28mself\u001b[39m\u001b[38;5;241m.\u001b[39m_iter_expand_paths(paths):\n\u001b[0;32m--> 745\u001b[0m     entries_added\u001b[38;5;241m.\u001b[39mappend(\u001b[38;5;28;43mself\u001b[39;49m\u001b[38;5;241;43m.\u001b[39;49m\u001b[43m_store_path\u001b[49m\u001b[43m(\u001b[49m\u001b[43mfilepath\u001b[49m\u001b[43m,\u001b[49m\u001b[43m \u001b[49m\u001b[43mfprogress\u001b[49m\u001b[43m)\u001b[49m)\n\u001b[1;32m    746\u001b[0m \u001b[38;5;66;03m# END for each filepath\u001b[39;00m\n\u001b[1;32m    747\u001b[0m \u001b[38;5;66;03m# END path handling\u001b[39;00m\n\u001b[1;32m    748\u001b[0m \u001b[38;5;28;01mreturn\u001b[39;00m entries_added\n",
      "File \u001b[0;32m~/Documents/github/reeder/venv/lib/python3.12/site-packages/git/index/base.py:689\u001b[0m, in \u001b[0;36mIndexFile._store_path\u001b[0;34m(self, filepath, fprogress)\u001b[0m\n\u001b[1;32m    682\u001b[0m \u001b[38;5;28;01mdef\u001b[39;00m \u001b[38;5;21m_store_path\u001b[39m(\u001b[38;5;28mself\u001b[39m, filepath: PathLike, fprogress: Callable) \u001b[38;5;241m-\u001b[39m\u001b[38;5;241m>\u001b[39m BaseIndexEntry:\n\u001b[1;32m    683\u001b[0m \u001b[38;5;250m    \u001b[39m\u001b[38;5;124;03m\"\"\"Store file at filepath in the database and return the base index entry.\u001b[39;00m\n\u001b[1;32m    684\u001b[0m \n\u001b[1;32m    685\u001b[0m \u001b[38;5;124;03m    :note:\u001b[39;00m\n\u001b[1;32m    686\u001b[0m \u001b[38;5;124;03m        This needs the :func:`~git.index.util.git_working_dir` decorator active!\u001b[39;00m\n\u001b[1;32m    687\u001b[0m \u001b[38;5;124;03m        This must be ensured in the calling code.\u001b[39;00m\n\u001b[1;32m    688\u001b[0m \u001b[38;5;124;03m    \"\"\"\u001b[39;00m\n\u001b[0;32m--> 689\u001b[0m     st \u001b[38;5;241m=\u001b[39m \u001b[43mos\u001b[49m\u001b[38;5;241;43m.\u001b[39;49m\u001b[43mlstat\u001b[49m\u001b[43m(\u001b[49m\u001b[43mfilepath\u001b[49m\u001b[43m)\u001b[49m  \u001b[38;5;66;03m# Handles non-symlinks as well.\u001b[39;00m\n\u001b[1;32m    690\u001b[0m     \u001b[38;5;28;01mif\u001b[39;00m S_ISLNK(st\u001b[38;5;241m.\u001b[39mst_mode):\n\u001b[1;32m    691\u001b[0m         \u001b[38;5;66;03m# In PY3, readlink is a string, but we need bytes.\u001b[39;00m\n\u001b[1;32m    692\u001b[0m         \u001b[38;5;66;03m# In PY2, it was just OS encoded bytes, we assumed UTF-8.\u001b[39;00m\n\u001b[1;32m    693\u001b[0m         open_stream: Callable[[], BinaryIO] \u001b[38;5;241m=\u001b[39m \u001b[38;5;28;01mlambda\u001b[39;00m: BytesIO(force_bytes(os\u001b[38;5;241m.\u001b[39mreadlink(filepath), encoding\u001b[38;5;241m=\u001b[39mdefenc))\n",
      "\u001b[0;31mFileNotFoundError\u001b[0m: [Errno 2] No such file or directory: '../markdown-notes/oop-previwew-other.md'"
     ]
    }
   ],
   "source": [
    "self.repo.index.add('../markdown-notes/oop-previwew-other.md')\n"
   ]
  },
  {
   "cell_type": "code",
   "execution_count": null,
   "id": "17d126e1-82ec-4952-bd78-a9b42ad60738",
   "metadata": {},
   "outputs": [],
   "source": []
  },
  {
   "cell_type": "code",
   "execution_count": null,
   "id": "40b2747b-80e0-43f1-8ba2-d6166a0f3e06",
   "metadata": {},
   "outputs": [],
   "source": []
  },
  {
   "cell_type": "code",
   "execution_count": 103,
   "id": "7d9a52c0-caf3-437f-91de-93e747dcd4dc",
   "metadata": {},
   "outputs": [
    {
     "data": {
      "text/plain": [
       "'main'"
      ]
     },
     "execution_count": 103,
     "metadata": {},
     "output_type": "execute_result"
    }
   ],
   "source": [
    "service.change_branch('main')"
   ]
  },
  {
   "cell_type": "code",
   "execution_count": 104,
   "id": "5f4640c3-ef79-4426-aee2-503436b5181e",
   "metadata": {},
   "outputs": [
    {
     "data": {
      "text/plain": [
       "False"
      ]
     },
     "execution_count": 104,
     "metadata": {},
     "output_type": "execute_result"
    }
   ],
   "source": [
    "service.diff()"
   ]
  },
  {
   "cell_type": "code",
   "execution_count": 95,
   "id": "9e95193b-b977-469a-87b2-00a11124480a",
   "metadata": {},
   "outputs": [
    {
     "data": {
      "text/plain": [
       "'bars'"
      ]
     },
     "execution_count": 95,
     "metadata": {},
     "output_type": "execute_result"
    }
   ],
   "source": [
    "service.branch"
   ]
  },
  {
   "cell_type": "code",
   "execution_count": 96,
   "id": "8731933a-1a1f-4975-b3d7-ccfb28a74886",
   "metadata": {},
   "outputs": [
    {
     "data": {
      "text/plain": [
       "<bound method IndexFile.diff of <git.index.base.IndexFile object at 0x107bb6890>>"
      ]
     },
     "execution_count": 96,
     "metadata": {},
     "output_type": "execute_result"
    }
   ],
   "source": [
    "service.repo.index.diff"
   ]
  },
  {
   "cell_type": "code",
   "execution_count": 90,
   "id": "b9b6dd46-e726-44c7-8206-7983ec160cea",
   "metadata": {},
   "outputs": [
    {
     "data": {
      "text/plain": [
       "'# Change 3'"
      ]
     },
     "execution_count": 90,
     "metadata": {},
     "output_type": "execute_result"
    }
   ],
   "source": [
    "filename = 'oop-preview.md'\n",
    "contents = m.read(filename)\n",
    "contents"
   ]
  },
  {
   "cell_type": "code",
   "execution_count": 91,
   "id": "6d683391-0c96-4f04-9ebd-9f529c4125d1",
   "metadata": {},
   "outputs": [],
   "source": [
    "service.add(filename, contents)"
   ]
  },
  {
   "cell_type": "code",
   "execution_count": 105,
   "id": "d93e8d45-da33-416d-8ad1-c6f692a10b5e",
   "metadata": {},
   "outputs": [
    {
     "data": {
      "text/plain": [
       "True"
      ]
     },
     "execution_count": 105,
     "metadata": {},
     "output_type": "execute_result"
    }
   ],
   "source": [
    "service.compare(filename, service.branch)"
   ]
  },
  {
   "cell_type": "code",
   "execution_count": 106,
   "id": "c70a5b0f-dd92-4071-a455-325eb5db1f9c",
   "metadata": {},
   "outputs": [
    {
     "data": {
      "text/plain": [
       "False"
      ]
     },
     "execution_count": 106,
     "metadata": {},
     "output_type": "execute_result"
    }
   ],
   "source": [
    "service.diff()"
   ]
  },
  {
   "cell_type": "code",
   "execution_count": 107,
   "id": "c580e403-643c-4dcf-bb0b-3ca1500f7728",
   "metadata": {},
   "outputs": [
    {
     "data": {
      "text/plain": [
       "'bar'"
      ]
     },
     "execution_count": 107,
     "metadata": {},
     "output_type": "execute_result"
    }
   ],
   "source": [
    "service.change_branch('bar')"
   ]
  },
  {
   "cell_type": "code",
   "execution_count": 109,
   "id": "b89fe301-90fd-4c0f-89f3-c60df72f9e63",
   "metadata": {},
   "outputs": [
    {
     "data": {
      "text/plain": [
       "False"
      ]
     },
     "execution_count": 109,
     "metadata": {},
     "output_type": "execute_result"
    }
   ],
   "source": [
    "service.diff()"
   ]
  },
  {
   "cell_type": "code",
   "execution_count": 113,
   "id": "3ec756a3-e3a7-4f97-8cab-48a1c7931126",
   "metadata": {},
   "outputs": [],
   "source": [
    "service.add('oop-preview-other.md', 'ny')"
   ]
  },
  {
   "cell_type": "code",
   "execution_count": null,
   "id": "86c294fc-2288-40e2-b198-49de9029da58",
   "metadata": {},
   "outputs": [],
   "source": []
  },
  {
   "cell_type": "code",
   "execution_count": 111,
   "id": "d02a620f-0564-42d7-80ed-4bd6e1ebfe0e",
   "metadata": {},
   "outputs": [
    {
     "data": {
      "text/plain": [
       "False"
      ]
     },
     "execution_count": 111,
     "metadata": {},
     "output_type": "execute_result"
    }
   ],
   "source": [
    "service.diff()"
   ]
  },
  {
   "cell_type": "code",
   "execution_count": null,
   "id": "274b4d3a-0991-4ad5-a1f3-4a9c3c6837e2",
   "metadata": {},
   "outputs": [],
   "source": []
  },
  {
   "cell_type": "code",
   "execution_count": null,
   "id": "f692e31a-eab0-4c77-87db-e7ecf29b02ff",
   "metadata": {},
   "outputs": [],
   "source": []
  },
  {
   "cell_type": "code",
   "execution_count": null,
   "id": "fdbaf85a-7735-4409-9f23-7e2f49264f95",
   "metadata": {},
   "outputs": [],
   "source": []
  },
  {
   "cell_type": "code",
   "execution_count": 76,
   "id": "9f1e07ff-857f-478a-b98d-e01285939bce",
   "metadata": {
    "scrolled": true
   },
   "outputs": [
    {
     "data": {
      "text/plain": [
       "[(100644, 3fe15352d278df7617dac8acc720b0084c0070d4, 0, oop-preview.md)]"
      ]
     },
     "execution_count": 76,
     "metadata": {},
     "output_type": "execute_result"
    }
   ],
   "source": [
    "repo.index.add('oop-preview.md')"
   ]
  },
  {
   "cell_type": "code",
   "execution_count": 77,
   "id": "5b552a94-3051-46e2-ba6f-365e010f3a9f",
   "metadata": {},
   "outputs": [
    {
     "data": {
      "text/plain": [
       "<git.Commit \"c277675c29c296945deb53980f68ba0c7a275087\">"
      ]
     },
     "execution_count": 77,
     "metadata": {},
     "output_type": "execute_result"
    }
   ],
   "source": [
    "repo.index.commit('bar v2b')"
   ]
  },
  {
   "cell_type": "code",
   "execution_count": 68,
   "id": "ece91bab-d6e6-4f22-a4c9-2900425541b6",
   "metadata": {},
   "outputs": [
    {
     "data": {
      "text/plain": [
       "<git.Commit \"ace9ca5833288575c94bf12d5ef06dcdab9f8881\">"
      ]
     },
     "execution_count": 68,
     "metadata": {},
     "output_type": "execute_result"
    }
   ],
   "source": [
    "repo.index.commit('bar v2')"
   ]
  },
  {
   "cell_type": "code",
   "execution_count": 78,
   "id": "3f1a5a27-504d-44ba-b1ab-dfc3991c5c3e",
   "metadata": {},
   "outputs": [
    {
     "data": {
      "text/plain": [
       "''"
      ]
     },
     "execution_count": 78,
     "metadata": {},
     "output_type": "execute_result"
    }
   ],
   "source": [
    "repo.git.diff()"
   ]
  },
  {
   "cell_type": "code",
   "execution_count": 71,
   "id": "5f12c8c9-7c73-4599-8517-dbced8b4cf0d",
   "metadata": {},
   "outputs": [],
   "source": [
    "m.write('oop-preview.md', '# Change 3')"
   ]
  },
  {
   "cell_type": "code",
   "execution_count": 74,
   "id": "2a19dd3f-a495-4d7e-90d2-81ee7361d14d",
   "metadata": {},
   "outputs": [
    {
     "data": {
      "text/plain": [
       "'../markdown-notes'"
      ]
     },
     "execution_count": 74,
     "metadata": {},
     "output_type": "execute_result"
    }
   ],
   "source": [
    "str(m.path)"
   ]
  },
  {
   "cell_type": "code",
   "execution_count": 54,
   "id": "570fcd63-3afe-467e-8ebb-48c62d153856",
   "metadata": {},
   "outputs": [
    {
     "data": {
      "text/plain": [
       "'ABC'"
      ]
     },
     "execution_count": 54,
     "metadata": {},
     "output_type": "execute_result"
    }
   ],
   "source": [
    "service.branch"
   ]
  },
  {
   "cell_type": "code",
   "execution_count": 55,
   "id": "a28a31d0-5916-4ec5-9837-a3c915234f48",
   "metadata": {},
   "outputs": [
    {
     "data": {
      "text/plain": [
       "'bars'"
      ]
     },
     "execution_count": 55,
     "metadata": {},
     "output_type": "execute_result"
    }
   ],
   "source": [
    "service.check_branch('bars')"
   ]
  },
  {
   "cell_type": "code",
   "execution_count": 56,
   "id": "1159a745-0337-44fd-b568-ce6a875667a4",
   "metadata": {},
   "outputs": [
    {
     "data": {
      "text/plain": [
       "'bars'"
      ]
     },
     "execution_count": 56,
     "metadata": {},
     "output_type": "execute_result"
    }
   ],
   "source": [
    "service.branch"
   ]
  },
  {
   "cell_type": "code",
   "execution_count": null,
   "id": "e4b34f2d-0c6d-4118-b138-ef3747de1923",
   "metadata": {},
   "outputs": [],
   "source": []
  },
  {
   "cell_type": "code",
   "execution_count": 45,
   "id": "cb78ecb1-0e0d-42b6-ae0c-8b10c749a3a2",
   "metadata": {
    "scrolled": true
   },
   "outputs": [
    {
     "ename": "GitCommandError",
     "evalue": "Cmd('git') failed due to: exit code(128)\n  cmdline: git checkout -b branchename\n  stderr: 'fatal: a branch named 'branchename' already exists'",
     "output_type": "error",
     "traceback": [
      "\u001b[0;31m---------------------------------------------------------------------------\u001b[0m",
      "\u001b[0;31mGitCommandError\u001b[0m                           Traceback (most recent call last)",
      "Cell \u001b[0;32mIn[45], line 1\u001b[0m\n\u001b[0;32m----> 1\u001b[0m \u001b[43mrepo\u001b[49m\u001b[38;5;241;43m.\u001b[39;49m\u001b[43mgit\u001b[49m\u001b[38;5;241;43m.\u001b[39;49m\u001b[43mcheckout\u001b[49m\u001b[43m(\u001b[49m\u001b[38;5;124;43m'\u001b[39;49m\u001b[38;5;124;43m-b\u001b[39;49m\u001b[38;5;124;43m'\u001b[39;49m\u001b[43m,\u001b[49m\u001b[43m \u001b[49m\u001b[38;5;124;43m'\u001b[39;49m\u001b[38;5;124;43mbranchename\u001b[39;49m\u001b[38;5;124;43m'\u001b[39;49m\u001b[43m)\u001b[49m\n",
      "File \u001b[0;32m~/Documents/github/reeder/venv/lib/python3.12/site-packages/git/cmd.py:986\u001b[0m, in \u001b[0;36mGit.__getattr__.<locals>.<lambda>\u001b[0;34m(*args, **kwargs)\u001b[0m\n\u001b[1;32m    984\u001b[0m \u001b[38;5;28;01mif\u001b[39;00m name\u001b[38;5;241m.\u001b[39mstartswith(\u001b[38;5;124m\"\u001b[39m\u001b[38;5;124m_\u001b[39m\u001b[38;5;124m\"\u001b[39m):\n\u001b[1;32m    985\u001b[0m     \u001b[38;5;28;01mreturn\u001b[39;00m \u001b[38;5;28msuper\u001b[39m()\u001b[38;5;241m.\u001b[39m\u001b[38;5;21m__getattribute__\u001b[39m(name)\n\u001b[0;32m--> 986\u001b[0m \u001b[38;5;28;01mreturn\u001b[39;00m \u001b[38;5;28;01mlambda\u001b[39;00m \u001b[38;5;241m*\u001b[39margs, \u001b[38;5;241m*\u001b[39m\u001b[38;5;241m*\u001b[39mkwargs: \u001b[38;5;28;43mself\u001b[39;49m\u001b[38;5;241;43m.\u001b[39;49m\u001b[43m_call_process\u001b[49m\u001b[43m(\u001b[49m\u001b[43mname\u001b[49m\u001b[43m,\u001b[49m\u001b[43m \u001b[49m\u001b[38;5;241;43m*\u001b[39;49m\u001b[43margs\u001b[49m\u001b[43m,\u001b[49m\u001b[43m \u001b[49m\u001b[38;5;241;43m*\u001b[39;49m\u001b[38;5;241;43m*\u001b[39;49m\u001b[43mkwargs\u001b[49m\u001b[43m)\u001b[49m\n",
      "File \u001b[0;32m~/Documents/github/reeder/venv/lib/python3.12/site-packages/git/cmd.py:1598\u001b[0m, in \u001b[0;36mGit._call_process\u001b[0;34m(self, method, *args, **kwargs)\u001b[0m\n\u001b[1;32m   1595\u001b[0m call\u001b[38;5;241m.\u001b[39mappend(dashify(method))\n\u001b[1;32m   1596\u001b[0m call\u001b[38;5;241m.\u001b[39mextend(args_list)\n\u001b[0;32m-> 1598\u001b[0m \u001b[38;5;28;01mreturn\u001b[39;00m \u001b[38;5;28;43mself\u001b[39;49m\u001b[38;5;241;43m.\u001b[39;49m\u001b[43mexecute\u001b[49m\u001b[43m(\u001b[49m\u001b[43mcall\u001b[49m\u001b[43m,\u001b[49m\u001b[43m \u001b[49m\u001b[38;5;241;43m*\u001b[39;49m\u001b[38;5;241;43m*\u001b[39;49m\u001b[43mexec_kwargs\u001b[49m\u001b[43m)\u001b[49m\n",
      "File \u001b[0;32m~/Documents/github/reeder/venv/lib/python3.12/site-packages/git/cmd.py:1388\u001b[0m, in \u001b[0;36mGit.execute\u001b[0;34m(self, command, istream, with_extended_output, with_exceptions, as_process, output_stream, stdout_as_string, kill_after_timeout, with_stdout, universal_newlines, shell, env, max_chunk_size, strip_newline_in_stdout, **subprocess_kwargs)\u001b[0m\n\u001b[1;32m   1385\u001b[0m \u001b[38;5;66;03m# END handle debug printing\u001b[39;00m\n\u001b[1;32m   1387\u001b[0m \u001b[38;5;28;01mif\u001b[39;00m with_exceptions \u001b[38;5;129;01mand\u001b[39;00m status \u001b[38;5;241m!=\u001b[39m \u001b[38;5;241m0\u001b[39m:\n\u001b[0;32m-> 1388\u001b[0m     \u001b[38;5;28;01mraise\u001b[39;00m GitCommandError(redacted_command, status, stderr_value, stdout_value)\n\u001b[1;32m   1390\u001b[0m \u001b[38;5;28;01mif\u001b[39;00m \u001b[38;5;28misinstance\u001b[39m(stdout_value, \u001b[38;5;28mbytes\u001b[39m) \u001b[38;5;129;01mand\u001b[39;00m stdout_as_string:  \u001b[38;5;66;03m# Could also be output_stream.\u001b[39;00m\n\u001b[1;32m   1391\u001b[0m     stdout_value \u001b[38;5;241m=\u001b[39m safe_decode(stdout_value)\n",
      "\u001b[0;31mGitCommandError\u001b[0m: Cmd('git') failed due to: exit code(128)\n  cmdline: git checkout -b branchename\n  stderr: 'fatal: a branch named 'branchename' already exists'"
     ]
    }
   ],
   "source": [
    "repo.git.checkout('-b', 'branchename')"
   ]
  },
  {
   "cell_type": "code",
   "execution_count": 47,
   "id": "f6e29214-db61-4949-915f-39ae31cabce2",
   "metadata": {},
   "outputs": [],
   "source": [
    "import git"
   ]
  },
  {
   "cell_type": "code",
   "execution_count": 48,
   "id": "0d988ffd-0b3d-4fe3-93b4-fc0f65ae4205",
   "metadata": {},
   "outputs": [
    {
     "data": {
      "text/plain": [
       "git.exc.GitCommandError"
      ]
     },
     "execution_count": 48,
     "metadata": {},
     "output_type": "execute_result"
    }
   ],
   "source": [
    "git.GitCommandError"
   ]
  },
  {
   "cell_type": "code",
   "execution_count": 44,
   "id": "12cdccbf-500c-4762-86d6-aaad88d0914a",
   "metadata": {
    "scrolled": true
   },
   "outputs": [
    {
     "ename": "GitCommandError",
     "evalue": "Cmd('git') failed due to: exit code(1)\n  cmdline: git checkout branchenameX\n  stderr: 'error: pathspec 'branchenameX' did not match any file(s) known to git'",
     "output_type": "error",
     "traceback": [
      "\u001b[0;31m---------------------------------------------------------------------------\u001b[0m",
      "\u001b[0;31mGitCommandError\u001b[0m                           Traceback (most recent call last)",
      "Cell \u001b[0;32mIn[44], line 1\u001b[0m\n\u001b[0;32m----> 1\u001b[0m \u001b[43mrepo\u001b[49m\u001b[38;5;241;43m.\u001b[39;49m\u001b[43mgit\u001b[49m\u001b[38;5;241;43m.\u001b[39;49m\u001b[43mcheckout\u001b[49m\u001b[43m(\u001b[49m\u001b[38;5;124;43m'\u001b[39;49m\u001b[38;5;124;43mbranchenameX\u001b[39;49m\u001b[38;5;124;43m'\u001b[39;49m\u001b[43m)\u001b[49m\n",
      "File \u001b[0;32m~/Documents/github/reeder/venv/lib/python3.12/site-packages/git/cmd.py:986\u001b[0m, in \u001b[0;36mGit.__getattr__.<locals>.<lambda>\u001b[0;34m(*args, **kwargs)\u001b[0m\n\u001b[1;32m    984\u001b[0m \u001b[38;5;28;01mif\u001b[39;00m name\u001b[38;5;241m.\u001b[39mstartswith(\u001b[38;5;124m\"\u001b[39m\u001b[38;5;124m_\u001b[39m\u001b[38;5;124m\"\u001b[39m):\n\u001b[1;32m    985\u001b[0m     \u001b[38;5;28;01mreturn\u001b[39;00m \u001b[38;5;28msuper\u001b[39m()\u001b[38;5;241m.\u001b[39m\u001b[38;5;21m__getattribute__\u001b[39m(name)\n\u001b[0;32m--> 986\u001b[0m \u001b[38;5;28;01mreturn\u001b[39;00m \u001b[38;5;28;01mlambda\u001b[39;00m \u001b[38;5;241m*\u001b[39margs, \u001b[38;5;241m*\u001b[39m\u001b[38;5;241m*\u001b[39mkwargs: \u001b[38;5;28;43mself\u001b[39;49m\u001b[38;5;241;43m.\u001b[39;49m\u001b[43m_call_process\u001b[49m\u001b[43m(\u001b[49m\u001b[43mname\u001b[49m\u001b[43m,\u001b[49m\u001b[43m \u001b[49m\u001b[38;5;241;43m*\u001b[39;49m\u001b[43margs\u001b[49m\u001b[43m,\u001b[49m\u001b[43m \u001b[49m\u001b[38;5;241;43m*\u001b[39;49m\u001b[38;5;241;43m*\u001b[39;49m\u001b[43mkwargs\u001b[49m\u001b[43m)\u001b[49m\n",
      "File \u001b[0;32m~/Documents/github/reeder/venv/lib/python3.12/site-packages/git/cmd.py:1598\u001b[0m, in \u001b[0;36mGit._call_process\u001b[0;34m(self, method, *args, **kwargs)\u001b[0m\n\u001b[1;32m   1595\u001b[0m call\u001b[38;5;241m.\u001b[39mappend(dashify(method))\n\u001b[1;32m   1596\u001b[0m call\u001b[38;5;241m.\u001b[39mextend(args_list)\n\u001b[0;32m-> 1598\u001b[0m \u001b[38;5;28;01mreturn\u001b[39;00m \u001b[38;5;28;43mself\u001b[39;49m\u001b[38;5;241;43m.\u001b[39;49m\u001b[43mexecute\u001b[49m\u001b[43m(\u001b[49m\u001b[43mcall\u001b[49m\u001b[43m,\u001b[49m\u001b[43m \u001b[49m\u001b[38;5;241;43m*\u001b[39;49m\u001b[38;5;241;43m*\u001b[39;49m\u001b[43mexec_kwargs\u001b[49m\u001b[43m)\u001b[49m\n",
      "File \u001b[0;32m~/Documents/github/reeder/venv/lib/python3.12/site-packages/git/cmd.py:1388\u001b[0m, in \u001b[0;36mGit.execute\u001b[0;34m(self, command, istream, with_extended_output, with_exceptions, as_process, output_stream, stdout_as_string, kill_after_timeout, with_stdout, universal_newlines, shell, env, max_chunk_size, strip_newline_in_stdout, **subprocess_kwargs)\u001b[0m\n\u001b[1;32m   1385\u001b[0m \u001b[38;5;66;03m# END handle debug printing\u001b[39;00m\n\u001b[1;32m   1387\u001b[0m \u001b[38;5;28;01mif\u001b[39;00m with_exceptions \u001b[38;5;129;01mand\u001b[39;00m status \u001b[38;5;241m!=\u001b[39m \u001b[38;5;241m0\u001b[39m:\n\u001b[0;32m-> 1388\u001b[0m     \u001b[38;5;28;01mraise\u001b[39;00m GitCommandError(redacted_command, status, stderr_value, stdout_value)\n\u001b[1;32m   1390\u001b[0m \u001b[38;5;28;01mif\u001b[39;00m \u001b[38;5;28misinstance\u001b[39m(stdout_value, \u001b[38;5;28mbytes\u001b[39m) \u001b[38;5;129;01mand\u001b[39;00m stdout_as_string:  \u001b[38;5;66;03m# Could also be output_stream.\u001b[39;00m\n\u001b[1;32m   1391\u001b[0m     stdout_value \u001b[38;5;241m=\u001b[39m safe_decode(stdout_value)\n",
      "\u001b[0;31mGitCommandError\u001b[0m: Cmd('git') failed due to: exit code(1)\n  cmdline: git checkout branchenameX\n  stderr: 'error: pathspec 'branchenameX' did not match any file(s) known to git'"
     ]
    }
   ],
   "source": [
    "repo.git.checkout('branchenameX')"
   ]
  },
  {
   "cell_type": "code",
   "execution_count": 51,
   "id": "44418c01-8df8-4ed3-952d-649797965605",
   "metadata": {
    "scrolled": true
   },
   "outputs": [
    {
     "data": {
      "text/plain": [
       "'ABC'"
      ]
     },
     "execution_count": 51,
     "metadata": {},
     "output_type": "execute_result"
    }
   ],
   "source": [
    "def check_branch(branch):\n",
    "    try:\n",
    "        repo.git.checkout(branch)\n",
    "    except git.GitCommandError:\n",
    "        # branch does not exist\n",
    "        repo.git.checkout('-b', branch)\n",
    "    return branch\n",
    "\n",
    "check_branch('ABC')"
   ]
  },
  {
   "cell_type": "code",
   "execution_count": 52,
   "id": "346c5cdc-a7fa-430b-9190-76b05af13bc1",
   "metadata": {},
   "outputs": [
    {
     "data": {
      "text/plain": [
       "'ABC'"
      ]
     },
     "execution_count": 52,
     "metadata": {},
     "output_type": "execute_result"
    }
   ],
   "source": [
    "check_branch('ABC')"
   ]
  },
  {
   "cell_type": "code",
   "execution_count": null,
   "id": "8c3a06c5-27a9-4eef-bfb0-906c761c04e7",
   "metadata": {},
   "outputs": [],
   "source": []
  },
  {
   "cell_type": "markdown",
   "id": "19150ce9-1faf-46fb-bedc-a55e83ecf028",
   "metadata": {},
   "source": [
    "### add"
   ]
  },
  {
   "cell_type": "code",
   "execution_count": 20,
   "id": "d1f6ed25-ab49-4c58-bb12-ec32aa43e620",
   "metadata": {},
   "outputs": [
    {
     "data": {
      "text/plain": [
       "PosixPath('../markdown-notes/oop-preview.md')"
      ]
     },
     "execution_count": 20,
     "metadata": {},
     "output_type": "execute_result"
    }
   ],
   "source": [
    "\n",
    "\n",
    "path_foo = path / \"oop-preview.md\"\n",
    "path_foo"
   ]
  },
  {
   "cell_type": "code",
   "execution_count": 22,
   "id": "d7e45085-a658-4dde-8114-8108dc7f9278",
   "metadata": {},
   "outputs": [],
   "source": [
    "with open(path_foo, 'a') as f:\n",
    "    f.write('\\nhey')"
   ]
  },
  {
   "cell_type": "code",
   "execution_count": 23,
   "id": "9d519572-6f65-426a-9a03-1ab53368a7c2",
   "metadata": {},
   "outputs": [
    {
     "name": "stdout",
     "output_type": "stream",
     "text": [
      "# OOP Preview\n",
      "\n",
      "\n",
      "\n",
      "hey\n"
     ]
    }
   ],
   "source": [
    "with open(path_foo) as f:\n",
    "    for line in f:\n",
    "        print(line)"
   ]
  },
  {
   "cell_type": "code",
   "execution_count": 141,
   "id": "607f709d-5c63-450f-882d-95759d7b1167",
   "metadata": {},
   "outputs": [
    {
     "data": {
      "text/plain": [
       "<__main__.FileManager at 0x1076e07a0>"
      ]
     },
     "execution_count": 141,
     "metadata": {},
     "output_type": "execute_result"
    }
   ],
   "source": []
  },
  {
   "cell_type": "code",
   "execution_count": 142,
   "id": "a07d0ecd-733f-4339-bbb8-5ad6cc3e2334",
   "metadata": {},
   "outputs": [
    {
     "data": {
      "text/plain": [
       "'/Users/aaronlelevier/Documents/github/markdown-notes/.'"
      ]
     },
     "execution_count": 142,
     "metadata": {},
     "output_type": "execute_result"
    }
   ],
   "source": [
    "m.fp('.')"
   ]
  },
  {
   "cell_type": "code",
   "execution_count": 143,
   "id": "840fbfc2-a94a-4a24-98ab-4fb4a304ee73",
   "metadata": {},
   "outputs": [
    {
     "data": {
      "text/plain": [
       "True"
      ]
     },
     "execution_count": 143,
     "metadata": {},
     "output_type": "execute_result"
    }
   ],
   "source": [
    "os.path.isdir(m.dirname)"
   ]
  },
  {
   "cell_type": "code",
   "execution_count": null,
   "id": "0d2453fe-f8c1-45d2-8f3a-b1260b18332d",
   "metadata": {},
   "outputs": [],
   "source": []
  },
  {
   "cell_type": "code",
   "execution_count": 131,
   "id": "d81a9e57-5d54-40f6-a781-710df18da42e",
   "metadata": {},
   "outputs": [
    {
     "data": {
      "text/plain": [
       "'# OOP Preview\\n\\nbar\\n'"
      ]
     },
     "execution_count": 131,
     "metadata": {},
     "output_type": "execute_result"
    }
   ],
   "source": [
    "filename = 'oop-preview.md'\n",
    "m.read(filename)"
   ]
  },
  {
   "cell_type": "code",
   "execution_count": 132,
   "id": "ae48a03a-a525-4458-93f8-d13d4d6cdd4b",
   "metadata": {},
   "outputs": [
    {
     "data": {
      "text/plain": [
       "'oop-preview.md'"
      ]
     },
     "execution_count": 132,
     "metadata": {},
     "output_type": "execute_result"
    }
   ],
   "source": [
    "filename"
   ]
  },
  {
   "cell_type": "code",
   "execution_count": 134,
   "id": "c91906b1-9a26-41de-b2d5-8f65e609d455",
   "metadata": {},
   "outputs": [
    {
     "data": {
      "text/plain": [
       "PosixPath('../markdown-notes/oop-preview.md')"
      ]
     },
     "execution_count": 134,
     "metadata": {},
     "output_type": "execute_result"
    }
   ],
   "source": [
    "m.fullpath(filename)"
   ]
  },
  {
   "cell_type": "code",
   "execution_count": 29,
   "id": "9d2584ac-8194-4425-a70e-5fd72b739e97",
   "metadata": {},
   "outputs": [],
   "source": [
    "m.write('oop-preview-other.md', '# My other OOP Preview')"
   ]
  },
  {
   "cell_type": "code",
   "execution_count": 30,
   "id": "332c353c-a528-4b8c-a70c-a0345d20078b",
   "metadata": {},
   "outputs": [
    {
     "data": {
      "text/plain": [
       "'# My other OOP Preview'"
      ]
     },
     "execution_count": 30,
     "metadata": {},
     "output_type": "execute_result"
    }
   ],
   "source": [
    "m.read('oop-preview-other.md')"
   ]
  },
  {
   "cell_type": "code",
   "execution_count": 135,
   "id": "01f87016-2034-4766-9e06-b524767242e9",
   "metadata": {},
   "outputs": [
    {
     "data": {
      "text/plain": [
       "<git.repo.base.Repo '/Users/aaronlelevier/Documents/github/markdown-notes/.git'>"
      ]
     },
     "execution_count": 135,
     "metadata": {},
     "output_type": "execute_result"
    }
   ],
   "source": [
    "repo"
   ]
  },
  {
   "cell_type": "code",
   "execution_count": 138,
   "id": "2c0e7c41-2dab-453f-9473-1f5891a37e6f",
   "metadata": {},
   "outputs": [
    {
     "data": {
      "text/plain": [
       "''"
      ]
     },
     "execution_count": 138,
     "metadata": {},
     "output_type": "execute_result"
    }
   ],
   "source": [
    "repo.git.add('/Users/aaronlelevier/Documents/github/markdown-notes/test.txt')"
   ]
  },
  {
   "cell_type": "code",
   "execution_count": null,
   "id": "77973fca-9056-4634-8a10-46e1a0334a0a",
   "metadata": {},
   "outputs": [],
   "source": []
  }
 ],
 "metadata": {
  "kernelspec": {
   "display_name": "Python 3 (ipykernel)",
   "language": "python",
   "name": "python3"
  },
  "language_info": {
   "codemirror_mode": {
    "name": "ipython",
    "version": 3
   },
   "file_extension": ".py",
   "mimetype": "text/x-python",
   "name": "python",
   "nbconvert_exporter": "python",
   "pygments_lexer": "ipython3",
   "version": "3.12.3"
  }
 },
 "nbformat": 4,
 "nbformat_minor": 5
}
